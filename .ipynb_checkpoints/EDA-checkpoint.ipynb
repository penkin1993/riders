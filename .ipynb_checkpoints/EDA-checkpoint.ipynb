{
 "cells": [
  {
   "cell_type": "code",
   "execution_count": 1,
   "metadata": {},
   "outputs": [],
   "source": [
    "import numpy as np\n",
    "import itertools\n",
    "\n",
    "from riders_combination_storage import RidersCombinationsStorage\n",
    "from queue import Queue"
   ]
  },
  {
   "cell_type": "code",
   "execution_count": 2,
   "metadata": {},
   "outputs": [],
   "source": [
    "rcs = RidersCombinationsStorage({\"a\": (2, 3), \"b\": (2, 15), \"c\": (0, 7), \"d\": (13, 16), \"e\": (14, 16)})\n",
    "\n",
    "array = rcs.get_combinations((\"d\",), (\"c\",))\n",
    "ind = [1, 3, 45, 5]\n",
    "new_array = array[ind, :]\n",
    "rcs.set_combinations((\"d\",), (\"c\",), ind, new_array)\n",
    "\n",
    "array_ = rcs.get_combinations((\"d\", \"c\"), (\"c\",))\n",
    "ind_ = [1, 45]\n",
    "new_array_ = array_[ind_, :]\n",
    "rcs.set_combinations((\"d\", \"c\"), (\"c\",), ind_, new_array_)"
   ]
  },
  {
   "cell_type": "code",
   "execution_count": 3,
   "metadata": {},
   "outputs": [
    {
     "data": {
      "text/plain": [
       "(84, 17)"
      ]
     },
     "execution_count": 3,
     "metadata": {},
     "output_type": "execute_result"
    }
   ],
   "source": [
    "rcs.get_combinations((\"d\", \"c\"), (\"c\", )).shape"
   ]
  },
  {
   "cell_type": "code",
   "execution_count": 4,
   "metadata": {},
   "outputs": [
    {
     "data": {
      "text/plain": [
       "(63, 17)"
      ]
     },
     "execution_count": 4,
     "metadata": {},
     "output_type": "execute_result"
    }
   ],
   "source": [
    "rcs.get_combinations((\"d\",), (\"c\", )).shape"
   ]
  },
  {
   "cell_type": "code",
   "execution_count": 5,
   "metadata": {},
   "outputs": [],
   "source": [
    "rcs = RidersCombinationsStorage({\"a\": (2, 3), \"b\": (2, 15), \"c\": (0, 7), \"d\": (13, 16), \"e\": (14, 16)})\n",
    "\n",
    "array = rcs.get_combinations((\"d\",), (\"c\",))\n",
    "ind = [1, 3, 45, 5]\n",
    "new_array = array[ind, :]\n",
    "rcs.set_combinations((\"d\",), (\"c\",), ind, new_array)\n",
    "\n",
    "array_ = rcs.get_combinations((\"d\", \"c\"), (\"c\",))\n",
    "ind_ = [1, 45]\n",
    "new_array_ = array_[ind_, :]\n",
    "rcs.set_combinations((\"d\", \"c\"), (\"c\",), ind_, new_array_)"
   ]
  },
  {
   "cell_type": "code",
   "execution_count": 6,
   "metadata": {},
   "outputs": [
    {
     "data": {
      "text/plain": [
       "'\\nrcs.best_combination = (\"c\", ), np.array([0, 1, 4]), np.array([100, 10, 20])\\nprint(rcs.best_combination)\\nrcs.best_combination = (\"d\", \"c\", ), np.array([12, 3, 4]), np.array([10, 10, 10])\\nprint(rcs.best_combination)\\nrcs.best_combination = (\"c\", \"q\", ), np.array([31, 0, 12]), np.array([20, 20, 20])\\nprint(rcs.best_combination)\\nrcs.best_combination = (\"c\", ), np.array([0, 1, 4]), np.array([100, 10, 20])\\nprint(rcs.best_combination)\\nrcs.best_combination = (\"d\", \"c\", \"c\"), np.array([1, 2]), np.array([1, 5])\\nprint(rcs.best_combination)\\n'"
      ]
     },
     "execution_count": 6,
     "metadata": {},
     "output_type": "execute_result"
    }
   ],
   "source": [
    "\"\"\"\n",
    "rcs.best_combination = (\"c\", ), np.array([0, 1, 4]), np.array([100, 10, 20])\n",
    "print(rcs.best_combination)\n",
    "rcs.best_combination = (\"d\", \"c\", ), np.array([12, 3, 4]), np.array([10, 10, 10])\n",
    "print(rcs.best_combination)\n",
    "rcs.best_combination = (\"c\", \"q\", ), np.array([31, 0, 12]), np.array([20, 20, 20])\n",
    "print(rcs.best_combination)\n",
    "rcs.best_combination = (\"c\", ), np.array([0, 1, 4]), np.array([100, 10, 20])\n",
    "print(rcs.best_combination)\n",
    "rcs.best_combination = (\"d\", \"c\", \"c\"), np.array([1, 2]), np.array([1, 5])\n",
    "print(rcs.best_combination)\n",
    "\"\"\""
   ]
  },
  {
   "cell_type": "code",
   "execution_count": 7,
   "metadata": {},
   "outputs": [],
   "source": [
    "rider_requirements = np.array([2, 2, 2, 2, 0, 0, 0, 0, 0, 0, 0, 0, 0, 1, 1, 1, 0])"
   ]
  },
  {
   "cell_type": "code",
   "execution_count": 106,
   "metadata": {},
   "outputs": [],
   "source": [
    "from combinations_checker import CombinationsChecker"
   ]
  },
  {
   "cell_type": "code",
   "execution_count": 107,
   "metadata": {},
   "outputs": [],
   "source": [
    "comb_check = CombinationsChecker(rider_requirements)"
   ]
  },
  {
   "cell_type": "code",
   "execution_count": 108,
   "metadata": {},
   "outputs": [
    {
     "data": {
      "text/plain": [
       "(array([0, 1, 6]),\n",
       " array([[2., 2., 2., 1., 0., 0., 0., 0., 0., 0., 0., 0., 0., 1., 1., 1.,\n",
       "         0.],\n",
       "        [2., 2., 2., 2., 0., 0., 0., 0., 0., 0., 0., 0., 0., 1., 1., 1.,\n",
       "         0.],\n",
       "        [1., 2., 2., 2., 0., 0., 0., 0., 0., 0., 0., 0., 0., 1., 1., 1.,\n",
       "         0.]]),\n",
       " array([1., 0., 1.]))"
      ]
     },
     "execution_count": 108,
     "metadata": {},
     "output_type": "execute_result"
    }
   ],
   "source": [
    "comb_check(array_)"
   ]
  },
  {
   "cell_type": "code",
   "execution_count": 109,
   "metadata": {},
   "outputs": [],
   "source": [
    "# дописать и провериь все у очереди "
   ]
  },
  {
   "cell_type": "code",
   "execution_count": 110,
   "metadata": {},
   "outputs": [],
   "source": [
    "from riders_iterator import RidersIterator"
   ]
  },
  {
   "cell_type": "code",
   "execution_count": 111,
   "metadata": {},
   "outputs": [],
   "source": [
    "ri = RidersIterator(rcs, comb_check)"
   ]
  },
  {
   "cell_type": "code",
   "execution_count": 112,
   "metadata": {},
   "outputs": [
    {
     "data": {
      "text/plain": [
       "{'b', 'c', 'd', 'e'}"
      ]
     },
     "execution_count": 112,
     "metadata": {},
     "output_type": "execute_result"
    }
   ],
   "source": [
    "ri._RidersIterator__ids"
   ]
  },
  {
   "cell_type": "code",
   "execution_count": 113,
   "metadata": {},
   "outputs": [],
   "source": [
    "# ri._RidersIterator__combination_deque.get()"
   ]
  },
  {
   "cell_type": "code",
   "execution_count": 114,
   "metadata": {},
   "outputs": [
    {
     "data": {
      "text/plain": [
       "set()"
      ]
     },
     "execution_count": 114,
     "metadata": {},
     "output_type": "execute_result"
    }
   ],
   "source": [
    "ri._RidersIterator__checked_combinations"
   ]
  },
  {
   "cell_type": "code",
   "execution_count": 115,
   "metadata": {
    "scrolled": true
   },
   "outputs": [],
   "source": [
    "# ri._RidersIterator__add_in_checked_combinations((\"b\", \"c\",\"d\", \"e\"))\n",
    "# ri._RidersIterator__add_in_checked_combinations((\"b\", \"c\", \"d\"))\n",
    "# ri._RidersIterator__add_in_checked_combinations((\"b\", \"c\"))\n",
    "ri._RidersIterator__add_in_checked_combinations((\"b\",))"
   ]
  },
  {
   "cell_type": "code",
   "execution_count": 116,
   "metadata": {},
   "outputs": [
    {
     "data": {
      "text/plain": [
       "{frozenset({'b', 'c', 'e'}),\n",
       " frozenset({'b', 'c', 'd'}),\n",
       " frozenset({'b', 'c', 'd', 'e'})}"
      ]
     },
     "execution_count": 116,
     "metadata": {},
     "output_type": "execute_result"
    }
   ],
   "source": [
    "ri._RidersIterator__checked_combinations"
   ]
  },
  {
   "cell_type": "code",
   "execution_count": 93,
   "metadata": {
    "scrolled": true
   },
   "outputs": [],
   "source": [
    "ri.put_combinations(((\"c\", \"d\"), ()))"
   ]
  },
  {
   "cell_type": "code",
   "execution_count": 94,
   "metadata": {},
   "outputs": [
    {
     "data": {
      "text/plain": [
       "(('c',), ())"
      ]
     },
     "execution_count": 94,
     "metadata": {},
     "output_type": "execute_result"
    }
   ],
   "source": [
    "ri._RidersIterator__combinations_queue.get()"
   ]
  },
  {
   "cell_type": "code",
   "execution_count": null,
   "metadata": {},
   "outputs": [],
   "source": []
  },
  {
   "cell_type": "code",
   "execution_count": null,
   "metadata": {},
   "outputs": [],
   "source": []
  },
  {
   "cell_type": "code",
   "execution_count": null,
   "metadata": {},
   "outputs": [],
   "source": []
  },
  {
   "cell_type": "code",
   "execution_count": null,
   "metadata": {},
   "outputs": [],
   "source": []
  },
  {
   "cell_type": "code",
   "execution_count": null,
   "metadata": {},
   "outputs": [],
   "source": []
  },
  {
   "cell_type": "code",
   "execution_count": null,
   "metadata": {},
   "outputs": [],
   "source": []
  },
  {
   "cell_type": "code",
   "execution_count": 21,
   "metadata": {},
   "outputs": [],
   "source": [
    "import pandas as pd\n",
    "import numpy as np\n",
    "import matplotlib.pylab as plt"
   ]
  },
  {
   "cell_type": "code",
   "execution_count": 22,
   "metadata": {},
   "outputs": [
    {
     "name": "stdout",
     "output_type": "stream",
     "text": [
      "total 232\r\n",
      "drwxr-xr-x@ 17 grigorijpenkin  staff    544 Feb  5 15:16 \u001b[34m.\u001b[m\u001b[m/\r\n",
      "drwxr-xr-x  31 grigorijpenkin  staff    992 Feb  3 11:07 \u001b[34m..\u001b[m\u001b[m/\r\n",
      "-rw-r--r--@  1 grigorijpenkin  staff   6148 Feb  5 14:00 .DS_Store\r\n",
      "drwxr-xr-x  12 grigorijpenkin  staff    384 Feb  5 15:07 \u001b[34m.git\u001b[m\u001b[m/\r\n",
      "drwxr-xr-x   9 grigorijpenkin  staff    288 Feb  5 15:16 \u001b[34m.idea\u001b[m\u001b[m/\r\n",
      "drwxr-xr-x   3 grigorijpenkin  staff     96 Jan 31 19:51 \u001b[34m.ipynb_checkpoints\u001b[m\u001b[m/\r\n",
      "-rw-r--r--   1 grigorijpenkin  staff  46114 Feb  5 15:16 EDA.ipynb\r\n",
      "drwxr-xr-x   6 grigorijpenkin  staff    192 Feb  5 15:19 \u001b[34m__pycache__\u001b[m\u001b[m/\r\n",
      "-rw-r--r--   1 grigorijpenkin  staff   1085 Feb  4 16:51 combinations_checker.py\r\n",
      "-rw-r--r--   1 grigorijpenkin  staff   2174 Feb  2 23:05 get_schedule.py\r\n",
      "-rw-r--r--   1 grigorijpenkin  staff   1491 Jan 31 20:43 requirements.txt\r\n",
      "-rwxr-xr-x@  1 grigorijpenkin  staff  13177 Jan 30 20:13 \u001b[31mriders.csv\u001b[m\u001b[m*\r\n",
      "-rw-r--r--   1 grigorijpenkin  staff   6799 Feb  5 15:16 riders_combination_storage.py\r\n",
      "-rw-r--r--   1 grigorijpenkin  staff   4007 Feb  5 15:10 riders_iterator.py\r\n",
      "drwxr-xr-x   8 grigorijpenkin  staff    256 Feb  4 19:25 \u001b[34mtests\u001b[m\u001b[m/\r\n",
      "-rwxr-xr-x@  1 grigorijpenkin  staff   3979 Jan 30 20:13 \u001b[31mzones.csv\u001b[m\u001b[m*\r\n",
      "-rwxr-xr-x@  1 grigorijpenkin  staff  15545 Jan 30 20:24 \u001b[31mЗадача.docx\u001b[m\u001b[m*\r\n"
     ]
    }
   ],
   "source": [
    "ls -la"
   ]
  },
  {
   "cell_type": "code",
   "execution_count": 23,
   "metadata": {},
   "outputs": [],
   "source": [
    "riders = pd.read_csv(\"./riders.csv\", index_col=\"rider_id\")\n",
    "zones = pd.read_csv(\"./zones.csv\", index_col=\"zone_id\")"
   ]
  },
  {
   "cell_type": "code",
   "execution_count": 24,
   "metadata": {},
   "outputs": [
    {
     "data": {
      "text/plain": [
       "array([ 5,  6,  7,  8,  9, 10, 11, 12, 13, 14, 15, 16])"
      ]
     },
     "execution_count": 24,
     "metadata": {},
     "output_type": "execute_result"
    }
   ],
   "source": [
    "np.unique(riders[\"end_hour\"] - riders[\"start_hour\"])"
   ]
  },
  {
   "cell_type": "code",
   "execution_count": 25,
   "metadata": {
    "scrolled": true
   },
   "outputs": [
    {
     "data": {
      "text/plain": [
       "44    22\n",
       "92    16\n",
       "8     15\n",
       "60    15\n",
       "81    15\n",
       "      ..\n",
       "4      5\n",
       "41     5\n",
       "7      4\n",
       "96     4\n",
       "93     3\n",
       "Name: zone_id, Length: 98, dtype: int64"
      ]
     },
     "execution_count": 25,
     "metadata": {},
     "output_type": "execute_result"
    }
   ],
   "source": [
    "riders[\"zone_id\"].value_counts()"
   ]
  },
  {
   "cell_type": "code",
   "execution_count": 26,
   "metadata": {},
   "outputs": [],
   "source": [
    "# TODO: тесты, аннотации, mpi"
   ]
  },
  {
   "cell_type": "code",
   "execution_count": 27,
   "metadata": {},
   "outputs": [
    {
     "data": {
      "text/plain": [
       "(6, 22)"
      ]
     },
     "execution_count": 27,
     "metadata": {},
     "output_type": "execute_result"
    }
   ],
   "source": [
    "min(riders[\"start_hour\"]), max(riders[\"end_hour\"])"
   ]
  },
  {
   "cell_type": "code",
   "execution_count": 28,
   "metadata": {},
   "outputs": [],
   "source": [
    "# Курьер -> (Зона, Время)\n",
    "\n",
    "# 1. Можно ли увеличивать время работы курьера ?\n",
    "# 2. Для каждого курьера определена своя зона. Поэтому можно в принципе рассматривать каждую зону изолированно."
   ]
  },
  {
   "cell_type": "code",
   "execution_count": 29,
   "metadata": {},
   "outputs": [],
   "source": [
    "# Эффективное расписание – это расписание с минимальным количеством часов в зонах доставки без курьеров."
   ]
  },
  {
   "cell_type": "code",
   "execution_count": 30,
   "metadata": {},
   "outputs": [],
   "source": [
    "# Мультипроцессинг"
   ]
  },
  {
   "cell_type": "code",
   "execution_count": 31,
   "metadata": {},
   "outputs": [
    {
     "data": {
      "text/html": [
       "<div>\n",
       "<style scoped>\n",
       "    .dataframe tbody tr th:only-of-type {\n",
       "        vertical-align: middle;\n",
       "    }\n",
       "\n",
       "    .dataframe tbody tr th {\n",
       "        vertical-align: top;\n",
       "    }\n",
       "\n",
       "    .dataframe thead th {\n",
       "        text-align: right;\n",
       "    }\n",
       "</style>\n",
       "<table border=\"1\" class=\"dataframe\">\n",
       "  <thead>\n",
       "    <tr style=\"text-align: right;\">\n",
       "      <th></th>\n",
       "      <th>zone_hour_6</th>\n",
       "      <th>zone_hour_7</th>\n",
       "      <th>zone_hour_8</th>\n",
       "      <th>zone_hour_9</th>\n",
       "      <th>zone_hour_10</th>\n",
       "      <th>zone_hour_11</th>\n",
       "      <th>zone_hour_12</th>\n",
       "      <th>zone_hour_13</th>\n",
       "      <th>zone_hour_14</th>\n",
       "      <th>zone_hour_15</th>\n",
       "      <th>zone_hour_16</th>\n",
       "      <th>zone_hour_17</th>\n",
       "      <th>zone_hour_18</th>\n",
       "      <th>zone_hour_19</th>\n",
       "      <th>zone_hour_20</th>\n",
       "      <th>zone_hour_21</th>\n",
       "      <th>zone_hour_22</th>\n",
       "    </tr>\n",
       "    <tr>\n",
       "      <th>zone_id</th>\n",
       "      <th></th>\n",
       "      <th></th>\n",
       "      <th></th>\n",
       "      <th></th>\n",
       "      <th></th>\n",
       "      <th></th>\n",
       "      <th></th>\n",
       "      <th></th>\n",
       "      <th></th>\n",
       "      <th></th>\n",
       "      <th></th>\n",
       "      <th></th>\n",
       "      <th></th>\n",
       "      <th></th>\n",
       "      <th></th>\n",
       "      <th></th>\n",
       "      <th></th>\n",
       "    </tr>\n",
       "  </thead>\n",
       "  <tbody>\n",
       "    <tr>\n",
       "      <td>1</td>\n",
       "      <td>6</td>\n",
       "      <td>1</td>\n",
       "      <td>2</td>\n",
       "      <td>7</td>\n",
       "      <td>1</td>\n",
       "      <td>5</td>\n",
       "      <td>5</td>\n",
       "      <td>6</td>\n",
       "      <td>6</td>\n",
       "      <td>9</td>\n",
       "      <td>6</td>\n",
       "      <td>9</td>\n",
       "      <td>4</td>\n",
       "      <td>1</td>\n",
       "      <td>8</td>\n",
       "      <td>3</td>\n",
       "      <td>9</td>\n",
       "    </tr>\n",
       "    <tr>\n",
       "      <td>2</td>\n",
       "      <td>6</td>\n",
       "      <td>1</td>\n",
       "      <td>8</td>\n",
       "      <td>8</td>\n",
       "      <td>4</td>\n",
       "      <td>9</td>\n",
       "      <td>5</td>\n",
       "      <td>9</td>\n",
       "      <td>4</td>\n",
       "      <td>3</td>\n",
       "      <td>1</td>\n",
       "      <td>9</td>\n",
       "      <td>9</td>\n",
       "      <td>2</td>\n",
       "      <td>9</td>\n",
       "      <td>1</td>\n",
       "      <td>5</td>\n",
       "    </tr>\n",
       "    <tr>\n",
       "      <td>3</td>\n",
       "      <td>5</td>\n",
       "      <td>2</td>\n",
       "      <td>2</td>\n",
       "      <td>6</td>\n",
       "      <td>3</td>\n",
       "      <td>3</td>\n",
       "      <td>7</td>\n",
       "      <td>4</td>\n",
       "      <td>5</td>\n",
       "      <td>4</td>\n",
       "      <td>6</td>\n",
       "      <td>9</td>\n",
       "      <td>3</td>\n",
       "      <td>4</td>\n",
       "      <td>4</td>\n",
       "      <td>6</td>\n",
       "      <td>9</td>\n",
       "    </tr>\n",
       "    <tr>\n",
       "      <td>4</td>\n",
       "      <td>4</td>\n",
       "      <td>8</td>\n",
       "      <td>7</td>\n",
       "      <td>1</td>\n",
       "      <td>1</td>\n",
       "      <td>6</td>\n",
       "      <td>1</td>\n",
       "      <td>2</td>\n",
       "      <td>2</td>\n",
       "      <td>8</td>\n",
       "      <td>5</td>\n",
       "      <td>8</td>\n",
       "      <td>4</td>\n",
       "      <td>8</td>\n",
       "      <td>6</td>\n",
       "      <td>1</td>\n",
       "      <td>9</td>\n",
       "    </tr>\n",
       "    <tr>\n",
       "      <td>5</td>\n",
       "      <td>9</td>\n",
       "      <td>2</td>\n",
       "      <td>9</td>\n",
       "      <td>4</td>\n",
       "      <td>1</td>\n",
       "      <td>6</td>\n",
       "      <td>8</td>\n",
       "      <td>4</td>\n",
       "      <td>8</td>\n",
       "      <td>7</td>\n",
       "      <td>6</td>\n",
       "      <td>3</td>\n",
       "      <td>2</td>\n",
       "      <td>9</td>\n",
       "      <td>9</td>\n",
       "      <td>3</td>\n",
       "      <td>6</td>\n",
       "    </tr>\n",
       "    <tr>\n",
       "      <td>...</td>\n",
       "      <td>...</td>\n",
       "      <td>...</td>\n",
       "      <td>...</td>\n",
       "      <td>...</td>\n",
       "      <td>...</td>\n",
       "      <td>...</td>\n",
       "      <td>...</td>\n",
       "      <td>...</td>\n",
       "      <td>...</td>\n",
       "      <td>...</td>\n",
       "      <td>...</td>\n",
       "      <td>...</td>\n",
       "      <td>...</td>\n",
       "      <td>...</td>\n",
       "      <td>...</td>\n",
       "      <td>...</td>\n",
       "      <td>...</td>\n",
       "    </tr>\n",
       "    <tr>\n",
       "      <td>95</td>\n",
       "      <td>4</td>\n",
       "      <td>6</td>\n",
       "      <td>7</td>\n",
       "      <td>3</td>\n",
       "      <td>4</td>\n",
       "      <td>1</td>\n",
       "      <td>1</td>\n",
       "      <td>8</td>\n",
       "      <td>1</td>\n",
       "      <td>5</td>\n",
       "      <td>2</td>\n",
       "      <td>1</td>\n",
       "      <td>6</td>\n",
       "      <td>3</td>\n",
       "      <td>1</td>\n",
       "      <td>6</td>\n",
       "      <td>9</td>\n",
       "    </tr>\n",
       "    <tr>\n",
       "      <td>96</td>\n",
       "      <td>2</td>\n",
       "      <td>2</td>\n",
       "      <td>4</td>\n",
       "      <td>8</td>\n",
       "      <td>1</td>\n",
       "      <td>4</td>\n",
       "      <td>6</td>\n",
       "      <td>4</td>\n",
       "      <td>7</td>\n",
       "      <td>5</td>\n",
       "      <td>6</td>\n",
       "      <td>2</td>\n",
       "      <td>7</td>\n",
       "      <td>8</td>\n",
       "      <td>2</td>\n",
       "      <td>3</td>\n",
       "      <td>5</td>\n",
       "    </tr>\n",
       "    <tr>\n",
       "      <td>97</td>\n",
       "      <td>9</td>\n",
       "      <td>7</td>\n",
       "      <td>3</td>\n",
       "      <td>3</td>\n",
       "      <td>7</td>\n",
       "      <td>5</td>\n",
       "      <td>6</td>\n",
       "      <td>7</td>\n",
       "      <td>8</td>\n",
       "      <td>7</td>\n",
       "      <td>7</td>\n",
       "      <td>6</td>\n",
       "      <td>2</td>\n",
       "      <td>4</td>\n",
       "      <td>7</td>\n",
       "      <td>6</td>\n",
       "      <td>1</td>\n",
       "    </tr>\n",
       "    <tr>\n",
       "      <td>98</td>\n",
       "      <td>2</td>\n",
       "      <td>2</td>\n",
       "      <td>2</td>\n",
       "      <td>8</td>\n",
       "      <td>4</td>\n",
       "      <td>9</td>\n",
       "      <td>4</td>\n",
       "      <td>5</td>\n",
       "      <td>7</td>\n",
       "      <td>7</td>\n",
       "      <td>4</td>\n",
       "      <td>4</td>\n",
       "      <td>5</td>\n",
       "      <td>2</td>\n",
       "      <td>7</td>\n",
       "      <td>7</td>\n",
       "      <td>9</td>\n",
       "    </tr>\n",
       "    <tr>\n",
       "      <td>99</td>\n",
       "      <td>4</td>\n",
       "      <td>8</td>\n",
       "      <td>5</td>\n",
       "      <td>6</td>\n",
       "      <td>7</td>\n",
       "      <td>4</td>\n",
       "      <td>7</td>\n",
       "      <td>4</td>\n",
       "      <td>7</td>\n",
       "      <td>9</td>\n",
       "      <td>3</td>\n",
       "      <td>6</td>\n",
       "      <td>7</td>\n",
       "      <td>5</td>\n",
       "      <td>6</td>\n",
       "      <td>9</td>\n",
       "      <td>8</td>\n",
       "    </tr>\n",
       "  </tbody>\n",
       "</table>\n",
       "<p>99 rows × 17 columns</p>\n",
       "</div>"
      ],
      "text/plain": [
       "         zone_hour_6  zone_hour_7  zone_hour_8  zone_hour_9  zone_hour_10  \\\n",
       "zone_id                                                                     \n",
       "1                  6            1            2            7             1   \n",
       "2                  6            1            8            8             4   \n",
       "3                  5            2            2            6             3   \n",
       "4                  4            8            7            1             1   \n",
       "5                  9            2            9            4             1   \n",
       "...              ...          ...          ...          ...           ...   \n",
       "95                 4            6            7            3             4   \n",
       "96                 2            2            4            8             1   \n",
       "97                 9            7            3            3             7   \n",
       "98                 2            2            2            8             4   \n",
       "99                 4            8            5            6             7   \n",
       "\n",
       "         zone_hour_11  zone_hour_12  zone_hour_13  zone_hour_14  zone_hour_15  \\\n",
       "zone_id                                                                         \n",
       "1                   5             5             6             6             9   \n",
       "2                   9             5             9             4             3   \n",
       "3                   3             7             4             5             4   \n",
       "4                   6             1             2             2             8   \n",
       "5                   6             8             4             8             7   \n",
       "...               ...           ...           ...           ...           ...   \n",
       "95                  1             1             8             1             5   \n",
       "96                  4             6             4             7             5   \n",
       "97                  5             6             7             8             7   \n",
       "98                  9             4             5             7             7   \n",
       "99                  4             7             4             7             9   \n",
       "\n",
       "         zone_hour_16  zone_hour_17  zone_hour_18  zone_hour_19  zone_hour_20  \\\n",
       "zone_id                                                                         \n",
       "1                   6             9             4             1             8   \n",
       "2                   1             9             9             2             9   \n",
       "3                   6             9             3             4             4   \n",
       "4                   5             8             4             8             6   \n",
       "5                   6             3             2             9             9   \n",
       "...               ...           ...           ...           ...           ...   \n",
       "95                  2             1             6             3             1   \n",
       "96                  6             2             7             8             2   \n",
       "97                  7             6             2             4             7   \n",
       "98                  4             4             5             2             7   \n",
       "99                  3             6             7             5             6   \n",
       "\n",
       "         zone_hour_21  zone_hour_22  \n",
       "zone_id                              \n",
       "1                   3             9  \n",
       "2                   1             5  \n",
       "3                   6             9  \n",
       "4                   1             9  \n",
       "5                   3             6  \n",
       "...               ...           ...  \n",
       "95                  6             9  \n",
       "96                  3             5  \n",
       "97                  6             1  \n",
       "98                  7             9  \n",
       "99                  9             8  \n",
       "\n",
       "[99 rows x 17 columns]"
      ]
     },
     "execution_count": 31,
     "metadata": {},
     "output_type": "execute_result"
    }
   ],
   "source": [
    "zones"
   ]
  },
  {
   "cell_type": "code",
   "execution_count": null,
   "metadata": {},
   "outputs": [],
   "source": []
  },
  {
   "cell_type": "code",
   "execution_count": 32,
   "metadata": {},
   "outputs": [],
   "source": [
    "# 1. В каком порядке сортировать на выбрасывание и вообще нужно ли оно????"
   ]
  },
  {
   "cell_type": "code",
   "execution_count": 33,
   "metadata": {},
   "outputs": [],
   "source": [
    "cum_hour = np.zeros(22 - 5)"
   ]
  },
  {
   "cell_type": "code",
   "execution_count": 34,
   "metadata": {},
   "outputs": [],
   "source": [
    "rider = riders.loc[riders.zone_id == 1]"
   ]
  },
  {
   "cell_type": "code",
   "execution_count": 35,
   "metadata": {},
   "outputs": [],
   "source": [
    "for i in rider.index:\n",
    "    rid = rider.loc[i, :]\n",
    "    for hour in range(rid[\"start_hour\"], rid[\"end_hour\"] + 1):\n",
    "        cum_hour[hour - 6] += 1"
   ]
  },
  {
   "cell_type": "code",
   "execution_count": 36,
   "metadata": {},
   "outputs": [
    {
     "data": {
      "image/png": "[encoded data removed]",
      "text/plain": [
       "<Figure size 1152x432 with 1 Axes>"
      ]
     },
     "metadata": {
      "needs_background": "light"
     },
     "output_type": "display_data"
    }
   ],
   "source": [
    "plt.figure(figsize=(16, 6))\n",
    "plt.plot(zones.iloc[0, :].values)\n",
    "plt.plot(cum_hour)\n",
    "plt.show()"
   ]
  },
  {
   "cell_type": "code",
   "execution_count": 37,
   "metadata": {},
   "outputs": [
    {
     "data": {
      "text/plain": [
       "array([6, 1, 2, 7, 1, 5, 5, 6, 6, 9, 6, 9, 4, 1, 8, 3, 9])"
      ]
     },
     "execution_count": 37,
     "metadata": {},
     "output_type": "execute_result"
    }
   ],
   "source": [
    "zones.iloc[0, :].values"
   ]
  },
  {
   "cell_type": "code",
   "execution_count": 38,
   "metadata": {},
   "outputs": [
    {
     "data": {
      "text/plain": [
       "array([ 5.,  8.,  8.,  9., 11., 13., 13., 13., 13., 13., 13., 12., 10.,\n",
       "        6.,  6.,  6.,  4.])"
      ]
     },
     "execution_count": 38,
     "metadata": {},
     "output_type": "execute_result"
    }
   ],
   "source": [
    "cum_hour"
   ]
  },
  {
   "cell_type": "code",
   "execution_count": null,
   "metadata": {},
   "outputs": [],
   "source": []
  },
  {
   "cell_type": "code",
   "execution_count": null,
   "metadata": {},
   "outputs": [],
   "source": []
  },
  {
   "cell_type": "code",
   "execution_count": null,
   "metadata": {},
   "outputs": [],
   "source": []
  },
  {
   "cell_type": "code",
   "execution_count": null,
   "metadata": {},
   "outputs": [],
   "source": []
  },
  {
   "cell_type": "code",
   "execution_count": 1,
   "metadata": {},
   "outputs": [],
   "source": [
    "import pandas as pd\n",
    "import numpy as np\n",
    "\n",
    "from riders_combination_storage import RidersCombinationsStorage\n",
    "from combinations_checker import CombinationsChecker\n",
    "from riders_iterator import RidersIterator"
   ]
  },
  {
   "cell_type": "code",
   "execution_count": 2,
   "metadata": {},
   "outputs": [],
   "source": [
    "riders = pd.read_csv(\"./riders.csv\", index_col=\"rider_id\")\n",
    "zones = pd.read_csv(\"./zones.csv\", index_col=\"zone_id\")"
   ]
  },
  {
   "cell_type": "code",
   "execution_count": 3,
   "metadata": {},
   "outputs": [
    {
     "data": {
      "text/plain": [
       "44    22\n",
       "92    16\n",
       "8     15\n",
       "60    15\n",
       "81    15\n",
       "      ..\n",
       "4      5\n",
       "41     5\n",
       "7      4\n",
       "96     4\n",
       "93     3\n",
       "Name: zone_id, Length: 98, dtype: int64"
      ]
     },
     "execution_count": 3,
     "metadata": {},
     "output_type": "execute_result"
    }
   ],
   "source": [
    "riders[\"zone_id\"].value_counts()"
   ]
  },
  {
   "cell_type": "code",
   "execution_count": 4,
   "metadata": {},
   "outputs": [],
   "source": [
    "id_ = 4"
   ]
  },
  {
   "cell_type": "code",
   "execution_count": 5,
   "metadata": {},
   "outputs": [],
   "source": [
    "riders_in_zones = zones.loc[zones.index == id_].values[0]\n",
    "poss_riders = riders.loc[riders.zone_id == id_, [\"start_hour\", \"end_hour\"]]\n",
    "poss_riders = poss_riders - 6\n",
    "id_rider2time = {ind: tuple(poss_riders.loc[ind]) for ind in  poss_riders.index}"
   ]
  },
  {
   "cell_type": "code",
   "execution_count": 6,
   "metadata": {},
   "outputs": [],
   "source": [
    "cs = CombinationsChecker(riders_in_zones)\n",
    "rcs = RidersCombinationsStorage(id_rider2time=id_rider2time,\n",
    "                                working_duration=riders_in_zones.shape[0],\n",
    "                                working_time_constraint=3)"
   ]
  },
  {
   "cell_type": "code",
   "execution_count": 7,
   "metadata": {},
   "outputs": [],
   "source": [
    "ri = RidersIterator(riders_combinations_storage=rcs, combinations_checker=cs)"
   ]
  },
  {
   "cell_type": "code",
   "execution_count": 8,
   "metadata": {
    "scrolled": true
   },
   "outputs": [
    {
     "name": "stdout",
     "output_type": "stream",
     "text": [
      "1\n",
      "1\n",
      "1\n",
      "1\n",
      "1\n",
      "1\n"
     ]
    },
    {
     "ename": "TypeError",
     "evalue": "only integer scalar arrays can be converted to a scalar index",
     "output_type": "error",
     "traceback": [
      "\u001b[0;31m---------------------------------------------------------------------------\u001b[0m",
      "\u001b[0;31mTypeError\u001b[0m                                 Traceback (most recent call last)",
      "\u001b[0;32m<timed eval>\u001b[0m in \u001b[0;36m<module>\u001b[0;34m\u001b[0m\n",
      "\u001b[0;32m~/Documents/pr_a/dc/riders_iterator.py\u001b[0m in \u001b[0;36m__call__\u001b[0;34m(self)\u001b[0m\n\u001b[1;32m     86\u001b[0m                 \u001b[0;31m# 3. Обновить словарь\u001b[0m\u001b[0;34m\u001b[0m\u001b[0;34m\u001b[0m\u001b[0;34m\u001b[0m\u001b[0m\n\u001b[1;32m     87\u001b[0m                 self.__riders_combinations_storage.set_combinations(pair_id[0], pair_id[1], duplicate_index,\n\u001b[0;32m---> 88\u001b[0;31m                                                                     row_indexes, intervals_matrix)\n\u001b[0m\u001b[1;32m     89\u001b[0m \u001b[0;34m\u001b[0m\u001b[0m\n\u001b[1;32m     90\u001b[0m         \u001b[0;32mreturn\u001b[0m \u001b[0mself\u001b[0m\u001b[0;34m.\u001b[0m\u001b[0m__riders_combinations_storage\u001b[0m\u001b[0;34m.\u001b[0m\u001b[0mbest_combination\u001b[0m\u001b[0;34m\u001b[0m\u001b[0;34m\u001b[0m\u001b[0m\n",
      "\u001b[0;32m~/Documents/pr_a/dc/riders_combination_storage.py\u001b[0m in \u001b[0;36mset_combinations\u001b[0;34m(self, id1, id2, duplicate_index, row_indexes, intervals_matrix)\u001b[0m\n\u001b[1;32m    158\u001b[0m \u001b[0;34m\u001b[0m\u001b[0m\n\u001b[1;32m    159\u001b[0m         \u001b[0mnew_combinations\u001b[0m \u001b[0;34m=\u001b[0m \u001b[0mlist\u001b[0m\u001b[0;34m(\u001b[0m\u001b[0mitertools\u001b[0m\u001b[0;34m.\u001b[0m\u001b[0mproduct\u001b[0m\u001b[0;34m(\u001b[0m\u001b[0mself\u001b[0m\u001b[0;34m.\u001b[0m\u001b[0m_rider2time_borders\u001b[0m\u001b[0;34m[\u001b[0m\u001b[0mid1\u001b[0m\u001b[0;34m]\u001b[0m\u001b[0;34m,\u001b[0m \u001b[0mself\u001b[0m\u001b[0;34m.\u001b[0m\u001b[0m_rider2time_borders\u001b[0m\u001b[0;34m[\u001b[0m\u001b[0mid2\u001b[0m\u001b[0;34m]\u001b[0m\u001b[0;34m)\u001b[0m\u001b[0;34m)\u001b[0m\u001b[0;34m\u001b[0m\u001b[0;34m\u001b[0m\u001b[0m\n\u001b[0;32m--> 160\u001b[0;31m         \u001b[0mnew_combinations\u001b[0m \u001b[0;34m=\u001b[0m \u001b[0mnew_combinations\u001b[0m\u001b[0;34m[\u001b[0m\u001b[0mduplicate_index\u001b[0m\u001b[0;34m]\u001b[0m\u001b[0;34m\u001b[0m\u001b[0;34m\u001b[0m\u001b[0m\n\u001b[0m\u001b[1;32m    161\u001b[0m \u001b[0;34m\u001b[0m\u001b[0m\n\u001b[1;32m    162\u001b[0m         [self._rider2time_borders[new_id].append((*new_combinations[ind][0],\n",
      "\u001b[0;31mTypeError\u001b[0m: only integer scalar arrays can be converted to a scalar index"
     ]
    }
   ],
   "source": [
    "%%time\n",
    "ri()"
   ]
  },
  {
   "cell_type": "code",
   "execution_count": null,
   "metadata": {},
   "outputs": [
    {
     "name": "stdout",
     "output_type": "stream",
     "text": [
      "> \u001b[0;32m/Users/grigorijpenkin/Documents/pr_a/dc/riders_combination_storage.py\u001b[0m(160)\u001b[0;36mset_combinations\u001b[0;34m()\u001b[0m\n",
      "\u001b[0;32m    158 \u001b[0;31m\u001b[0;34m\u001b[0m\u001b[0m\n",
      "\u001b[0m\u001b[0;32m    159 \u001b[0;31m        \u001b[0mnew_combinations\u001b[0m \u001b[0;34m=\u001b[0m \u001b[0mlist\u001b[0m\u001b[0;34m(\u001b[0m\u001b[0mitertools\u001b[0m\u001b[0;34m.\u001b[0m\u001b[0mproduct\u001b[0m\u001b[0;34m(\u001b[0m\u001b[0mself\u001b[0m\u001b[0;34m.\u001b[0m\u001b[0m_rider2time_borders\u001b[0m\u001b[0;34m[\u001b[0m\u001b[0mid1\u001b[0m\u001b[0;34m]\u001b[0m\u001b[0;34m,\u001b[0m \u001b[0mself\u001b[0m\u001b[0;34m.\u001b[0m\u001b[0m_rider2time_borders\u001b[0m\u001b[0;34m[\u001b[0m\u001b[0mid2\u001b[0m\u001b[0;34m]\u001b[0m\u001b[0;34m)\u001b[0m\u001b[0;34m)\u001b[0m\u001b[0;34m\u001b[0m\u001b[0;34m\u001b[0m\u001b[0m\n",
      "\u001b[0m\u001b[0;32m--> 160 \u001b[0;31m        \u001b[0mnew_combinations\u001b[0m \u001b[0;34m=\u001b[0m \u001b[0mnew_combinations\u001b[0m\u001b[0;34m[\u001b[0m\u001b[0mduplicate_index\u001b[0m\u001b[0;34m]\u001b[0m\u001b[0;34m\u001b[0m\u001b[0;34m\u001b[0m\u001b[0m\n",
      "\u001b[0m\u001b[0;32m    161 \u001b[0;31m\u001b[0;34m\u001b[0m\u001b[0m\n",
      "\u001b[0m\u001b[0;32m    162 \u001b[0;31m        [self._rider2time_borders[new_id].append((*new_combinations[ind][0],\n",
      "\u001b[0m\n",
      "ipdb> l\n",
      "\u001b[1;32m    155 \u001b[0m\u001b[0;34m\u001b[0m\u001b[0m\n",
      "\u001b[1;32m    156 \u001b[0m        \u001b[0mself\u001b[0m\u001b[0;34m.\u001b[0m\u001b[0m_np_rider2time_borders\u001b[0m\u001b[0;34m[\u001b[0m\u001b[0mnew_id\u001b[0m\u001b[0;34m]\u001b[0m \u001b[0;34m=\u001b[0m \u001b[0mintervals_matrix\u001b[0m\u001b[0;34m\u001b[0m\u001b[0;34m\u001b[0m\u001b[0m\n",
      "\u001b[1;32m    157 \u001b[0m        \u001b[0mself\u001b[0m\u001b[0;34m.\u001b[0m\u001b[0m_rider2time_borders\u001b[0m\u001b[0;34m[\u001b[0m\u001b[0mnew_id\u001b[0m\u001b[0;34m]\u001b[0m \u001b[0;34m=\u001b[0m \u001b[0;34m[\u001b[0m\u001b[0;34m]\u001b[0m\u001b[0;34m\u001b[0m\u001b[0;34m\u001b[0m\u001b[0m\n",
      "\u001b[1;32m    158 \u001b[0m\u001b[0;34m\u001b[0m\u001b[0m\n",
      "\u001b[1;32m    159 \u001b[0m        \u001b[0mnew_combinations\u001b[0m \u001b[0;34m=\u001b[0m \u001b[0mlist\u001b[0m\u001b[0;34m(\u001b[0m\u001b[0mitertools\u001b[0m\u001b[0;34m.\u001b[0m\u001b[0mproduct\u001b[0m\u001b[0;34m(\u001b[0m\u001b[0mself\u001b[0m\u001b[0;34m.\u001b[0m\u001b[0m_rider2time_borders\u001b[0m\u001b[0;34m[\u001b[0m\u001b[0mid1\u001b[0m\u001b[0;34m]\u001b[0m\u001b[0;34m,\u001b[0m \u001b[0mself\u001b[0m\u001b[0;34m.\u001b[0m\u001b[0m_rider2time_borders\u001b[0m\u001b[0;34m[\u001b[0m\u001b[0mid2\u001b[0m\u001b[0;34m]\u001b[0m\u001b[0;34m)\u001b[0m\u001b[0;34m)\u001b[0m\u001b[0;34m\u001b[0m\u001b[0;34m\u001b[0m\u001b[0m\n",
      "\u001b[0;32m--> 160 \u001b[0;31m        \u001b[0mnew_combinations\u001b[0m \u001b[0;34m=\u001b[0m \u001b[0mnew_combinations\u001b[0m\u001b[0;34m[\u001b[0m\u001b[0mduplicate_index\u001b[0m\u001b[0;34m]\u001b[0m\u001b[0;34m\u001b[0m\u001b[0;34m\u001b[0m\u001b[0m\n",
      "\u001b[0m\u001b[1;32m    161 \u001b[0m\u001b[0;34m\u001b[0m\u001b[0m\n",
      "\u001b[1;32m    162 \u001b[0m        [self._rider2time_borders[new_id].append((*new_combinations[ind][0],\n",
      "\u001b[1;32m    163 \u001b[0m                                                  *new_combinations[ind][1])) for ind in row_indexes]\n",
      "\u001b[1;32m    164 \u001b[0m\u001b[0;34m\u001b[0m\u001b[0m\n",
      "\n",
      "ipdb> duplicate_index\n",
      "array([4289, 4287, 4288, ...,  612,  613,  614])\n",
      "ipdb> new_combinations[duplicate_index]\n",
      "*** TypeError: only integer scalar arrays can be converted to a scalar index\n",
      "ipdb> new_combinations[*duplicate_index]\n",
      "*** SyntaxError: invalid syntax\n",
      "ipdb> new_combinations[list(duplicate_index)]\n",
      "*** TypeError: list indices must be integers or slices, not list\n"
     ]
    }
   ],
   "source": [
    "%debug"
   ]
  },
  {
   "cell_type": "code",
   "execution_count": null,
   "metadata": {},
   "outputs": [],
   "source": []
  },
  {
   "cell_type": "code",
   "execution_count": null,
   "metadata": {},
   "outputs": [],
   "source": []
  },
  {
   "cell_type": "code",
   "execution_count": null,
   "metadata": {},
   "outputs": [],
   "source": []
  },
  {
   "cell_type": "code",
   "execution_count": null,
   "metadata": {},
   "outputs": [],
   "source": []
  },
  {
   "cell_type": "code",
   "execution_count": null,
   "metadata": {},
   "outputs": [],
   "source": []
  },
  {
   "cell_type": "code",
   "execution_count": 16,
   "metadata": {},
   "outputs": [],
   "source": [
    "a = np.array([[1, 2, 1, 2], [1, 2, 1, 1], [1, 2, 1, 1], [1, 0, 0, 0]])"
   ]
  },
  {
   "cell_type": "code",
   "execution_count": 17,
   "metadata": {},
   "outputs": [
    {
     "data": {
      "text/plain": [
       "array([[1, 2, 1, 2],\n",
       "       [1, 2, 1, 1],\n",
       "       [1, 2, 1, 1],\n",
       "       [1, 0, 0, 0]])"
      ]
     },
     "execution_count": 17,
     "metadata": {},
     "output_type": "execute_result"
    }
   ],
   "source": [
    "a"
   ]
  },
  {
   "cell_type": "code",
   "execution_count": 18,
   "metadata": {},
   "outputs": [],
   "source": [
    "intervals_matrix, duplicate_index = np.unique(a, axis=0, return_index=True)"
   ]
  },
  {
   "cell_type": "code",
   "execution_count": 19,
   "metadata": {},
   "outputs": [
    {
     "data": {
      "text/plain": [
       "array([[1, 0, 0, 0],\n",
       "       [1, 2, 1, 1],\n",
       "       [1, 2, 1, 2]])"
      ]
     },
     "execution_count": 19,
     "metadata": {},
     "output_type": "execute_result"
    }
   ],
   "source": [
    "intervals_matrix"
   ]
  },
  {
   "cell_type": "code",
   "execution_count": null,
   "metadata": {},
   "outputs": [],
   "source": []
  },
  {
   "cell_type": "code",
   "execution_count": null,
   "metadata": {},
   "outputs": [],
   "source": []
  },
  {
   "cell_type": "code",
   "execution_count": 9,
   "metadata": {},
   "outputs": [
    {
     "data": {
      "text/plain": [
       "{frozenset({6, 727}),\n",
       " frozenset({6, 441, 529, 727}),\n",
       " frozenset({183, 529}),\n",
       " frozenset({183, 529, 727}),\n",
       " frozenset({441, 529}),\n",
       " frozenset({6, 441, 529}),\n",
       " frozenset({183, 441, 529}),\n",
       " frozenset({6, 441}),\n",
       " frozenset({6, 183}),\n",
       " frozenset({6, 183, 441}),\n",
       " frozenset({6, 183, 529}),\n",
       " frozenset({529, 727}),\n",
       " frozenset({183, 727}),\n",
       " frozenset({6, 183, 529, 727}),\n",
       " frozenset({441, 727}),\n",
       " frozenset({183, 441, 727}),\n",
       " frozenset({6, 183, 727}),\n",
       " frozenset({183, 441}),\n",
       " frozenset({6, 441, 727}),\n",
       " frozenset({6, 183, 441, 727}),\n",
       " frozenset({6, 529}),\n",
       " frozenset({6, 183, 441, 529}),\n",
       " frozenset({6, 529, 727}),\n",
       " frozenset({441, 529, 727}),\n",
       " frozenset({183, 441, 529, 727}),\n",
       " frozenset({6, 183, 441, 529, 727})}"
      ]
     },
     "execution_count": 9,
     "metadata": {},
     "output_type": "execute_result"
    }
   ],
   "source": [
    "ri._RidersIterator__checked_combinations"
   ]
  },
  {
   "cell_type": "code",
   "execution_count": 10,
   "metadata": {},
   "outputs": [],
   "source": [
    "bc = ri._RidersIterator__riders_combinations_storage.best_combination"
   ]
  },
  {
   "cell_type": "code",
   "execution_count": 11,
   "metadata": {},
   "outputs": [
    {
     "data": {
      "text/plain": [
       "((6, 529, 441, 183, 727), ((7, 14), (9, 16), (0, 2), (9, 14), (0, 14)), 41.0)"
      ]
     },
     "execution_count": 11,
     "metadata": {},
     "output_type": "execute_result"
    }
   ],
   "source": [
    "bc"
   ]
  },
  {
   "cell_type": "code",
   "execution_count": 12,
   "metadata": {},
   "outputs": [],
   "source": [
    "np_d = ri._RidersIterator__riders_combinations_storage._np_rider2time_borders"
   ]
  },
  {
   "cell_type": "code",
   "execution_count": 13,
   "metadata": {},
   "outputs": [
    {
     "data": {
      "text/plain": [
       "array([[2., 3., 3., ..., 0., 0., 0.],\n",
       "       [1., 2., 2., ..., 0., 0., 0.],\n",
       "       [1., 2., 2., ..., 0., 0., 0.],\n",
       "       ...,\n",
       "       [0., 0., 0., ..., 3., 1., 1.],\n",
       "       [0., 0., 0., ..., 4., 1., 1.],\n",
       "       [0., 0., 0., ..., 4., 1., 1.]])"
      ]
     },
     "execution_count": 13,
     "metadata": {},
     "output_type": "execute_result"
    }
   ],
   "source": [
    "np_d[(6, 529, 441, 183, 727)]"
   ]
  },
  {
   "cell_type": "code",
   "execution_count": null,
   "metadata": {},
   "outputs": [],
   "source": []
  },
  {
   "cell_type": "code",
   "execution_count": null,
   "metadata": {},
   "outputs": [],
   "source": []
  },
  {
   "cell_type": "code",
   "execution_count": null,
   "metadata": {},
   "outputs": [],
   "source": []
  },
  {
   "cell_type": "code",
   "execution_count": 14,
   "metadata": {},
   "outputs": [],
   "source": [
    "import matplotlib.pylab as plt"
   ]
  },
  {
   "cell_type": "code",
   "execution_count": 15,
   "metadata": {},
   "outputs": [],
   "source": [
    "a = np.zeros(17)\n",
    "for i in bc[1]:\n",
    "    a[i[0]:i[1] + 1] += 1"
   ]
  },
  {
   "cell_type": "code",
   "execution_count": 16,
   "metadata": {},
   "outputs": [
    {
     "data": {
      "image/png": "[encoded data removed]",
      "text/plain": [
       "<Figure size 432x288 with 1 Axes>"
      ]
     },
     "metadata": {
      "needs_background": "light"
     },
     "output_type": "display_data"
    }
   ],
   "source": [
    "plt.plot(riders_in_zones)\n",
    "plt.plot(a)\n",
    "plt.show()"
   ]
  },
  {
   "cell_type": "code",
   "execution_count": null,
   "metadata": {},
   "outputs": [],
   "source": []
  },
  {
   "cell_type": "code",
   "execution_count": null,
   "metadata": {},
   "outputs": [],
   "source": []
  },
  {
   "cell_type": "code",
   "execution_count": null,
   "metadata": {},
   "outputs": [],
   "source": []
  }
 ],
 "metadata": {
  "kernelspec": {
   "display_name": "Python 3",
   "language": "python",
   "name": "python3"
  },
  "language_info": {
   "codemirror_mode": {
    "name": "ipython",
    "version": 3
   },
   "file_extension": ".py",
   "mimetype": "text/x-python",
   "name": "python",
   "nbconvert_exporter": "python",
   "pygments_lexer": "ipython3",
   "version": "3.7.6"
  },
  "pycharm": {
   "stem_cell": {
    "cell_type": "raw",
    "metadata": {
     "collapsed": false
    },
    "source": []
   }
  }
 },
 "nbformat": 4,
 "nbformat_minor": 4
}
