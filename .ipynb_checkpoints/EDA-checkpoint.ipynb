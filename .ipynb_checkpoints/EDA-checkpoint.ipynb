{
 "cells": [
  {
   "cell_type": "code",
   "execution_count": null,
   "metadata": {},
   "outputs": [],
   "source": [
    "import numpy as np\n",
    "import itertools\n",
    "\n",
    "from riders_combination_storage import RidersCombinationsStorage\n",
    "from queue import Queue"
   ]
  },
  {
   "cell_type": "code",
   "execution_count": null,
   "metadata": {},
   "outputs": [],
   "source": [
    "rcs = RidersCombinationsStorage({\"a\": (2, 3), \"b\": (2, 15), \"c\": (0, 7), \"d\": (13, 16), \"e\": (14, 16)})\n",
    "\n",
    "array = rcs.get_combinations((\"d\",), (\"c\",))\n",
    "ind = [1, 3, 45, 5]\n",
    "new_array = array[ind, :]\n",
    "rcs.set_combinations((\"d\",), (\"c\",), ind, new_array)\n",
    "\n",
    "array_ = rcs.get_combinations((\"d\", \"c\"), (\"c\",))\n",
    "ind_ = [1, 45]\n",
    "new_array_ = array_[ind_, :]\n",
    "rcs.set_combinations((\"d\", \"c\"), (\"c\",), ind_, new_array_)"
   ]
  },
  {
   "cell_type": "code",
   "execution_count": null,
   "metadata": {},
   "outputs": [],
   "source": [
    "rcs.get_combinations((\"d\", \"c\"), (\"c\", )).shape"
   ]
  },
  {
   "cell_type": "code",
   "execution_count": null,
   "metadata": {},
   "outputs": [],
   "source": [
    "rcs.get_combinations((\"d\",), (\"c\", )).shape"
   ]
  },
  {
   "cell_type": "code",
   "execution_count": null,
   "metadata": {},
   "outputs": [],
   "source": [
    "rcs = RidersCombinationsStorage({\"a\": (2, 3), \"b\": (2, 15), \"c\": (0, 7), \"d\": (13, 16), \"e\": (14, 16)})\n",
    "\n",
    "array = rcs.get_combinations((\"d\",), (\"c\",))\n",
    "ind = [1, 3, 45, 5]\n",
    "new_array = array[ind, :]\n",
    "rcs.set_combinations((\"d\",), (\"c\",), ind, new_array)\n",
    "\n",
    "array_ = rcs.get_combinations((\"d\", \"c\"), (\"c\",))\n",
    "ind_ = [1, 45]\n",
    "new_array_ = array_[ind_, :]\n",
    "rcs.set_combinations((\"d\", \"c\"), (\"c\",), ind_, new_array_)"
   ]
  },
  {
   "cell_type": "code",
   "execution_count": null,
   "metadata": {},
   "outputs": [],
   "source": [
    "\"\"\"\n",
    "rcs.best_combination = (\"c\", ), np.array([0, 1, 4]), np.array([100, 10, 20])\n",
    "print(rcs.best_combination)\n",
    "rcs.best_combination = (\"d\", \"c\", ), np.array([12, 3, 4]), np.array([10, 10, 10])\n",
    "print(rcs.best_combination)\n",
    "rcs.best_combination = (\"c\", \"q\", ), np.array([31, 0, 12]), np.array([20, 20, 20])\n",
    "print(rcs.best_combination)\n",
    "rcs.best_combination = (\"c\", ), np.array([0, 1, 4]), np.array([100, 10, 20])\n",
    "print(rcs.best_combination)\n",
    "rcs.best_combination = (\"d\", \"c\", \"c\"), np.array([1, 2]), np.array([1, 5])\n",
    "print(rcs.best_combination)\n",
    "\"\"\""
   ]
  },
  {
   "cell_type": "code",
   "execution_count": null,
   "metadata": {},
   "outputs": [],
   "source": [
    "rider_requirements = np.array([2, 2, 2, 2, 0, 0, 0, 0, 0, 0, 0, 0, 0, 1, 1, 1, 0])"
   ]
  },
  {
   "cell_type": "code",
   "execution_count": null,
   "metadata": {},
   "outputs": [],
   "source": [
    "from combinations_checker import CombinationsChecker"
   ]
  },
  {
   "cell_type": "code",
   "execution_count": null,
   "metadata": {},
   "outputs": [],
   "source": [
    "comb_check = CombinationsChecker(rider_requirements)"
   ]
  },
  {
   "cell_type": "code",
   "execution_count": null,
   "metadata": {},
   "outputs": [],
   "source": [
    "comb_check(array_)"
   ]
  },
  {
   "cell_type": "code",
   "execution_count": null,
   "metadata": {},
   "outputs": [],
   "source": [
    "# дописать и провериь все у очереди "
   ]
  },
  {
   "cell_type": "code",
   "execution_count": null,
   "metadata": {},
   "outputs": [],
   "source": [
    "from riders_iterator import RidersIterator"
   ]
  },
  {
   "cell_type": "code",
   "execution_count": null,
   "metadata": {},
   "outputs": [],
   "source": [
    "ri = RidersIterator(rcs, comb_check)"
   ]
  },
  {
   "cell_type": "code",
   "execution_count": null,
   "metadata": {},
   "outputs": [],
   "source": [
    "ri._RidersIterator__ids"
   ]
  },
  {
   "cell_type": "code",
   "execution_count": null,
   "metadata": {},
   "outputs": [],
   "source": [
    "# ri._RidersIterator__combination_deque.get()"
   ]
  },
  {
   "cell_type": "code",
   "execution_count": null,
   "metadata": {},
   "outputs": [],
   "source": [
    "ri._RidersIterator__checked_combinations"
   ]
  },
  {
   "cell_type": "code",
   "execution_count": null,
   "metadata": {
    "scrolled": true
   },
   "outputs": [],
   "source": [
    "ri._RidersIterator__add_in_checked_combinations(((\"b\", \"c\"), (\"d\", \"e\")))\n",
    "ri._RidersIterator__add_in_checked_combinations(((\"b\", \"c\"), (\"d\",)))\n",
    "ri._RidersIterator__add_in_checked_combinations(((\"b\", \"c\"), ()))\n",
    "ri._RidersIterator__add_in_checked_combinations(((\"b\",), ()))"
   ]
  },
  {
   "cell_type": "code",
   "execution_count": null,
   "metadata": {},
   "outputs": [],
   "source": [
    "ri._RidersIterator__checked_combinations"
   ]
  },
  {
   "cell_type": "code",
   "execution_count": null,
   "metadata": {
    "scrolled": true
   },
   "outputs": [],
   "source": [
    "ri.put_combinations(((\"c\", \"d\"), ()))"
   ]
  },
  {
   "cell_type": "code",
   "execution_count": null,
   "metadata": {},
   "outputs": [],
   "source": [
    "ri._RidersIterator__combinations_queue.get()"
   ]
  },
  {
   "cell_type": "code",
   "execution_count": null,
   "metadata": {},
   "outputs": [],
   "source": []
  },
  {
   "cell_type": "code",
   "execution_count": null,
   "metadata": {},
   "outputs": [],
   "source": []
  },
  {
   "cell_type": "code",
   "execution_count": null,
   "metadata": {},
   "outputs": [],
   "source": []
  },
  {
   "cell_type": "code",
   "execution_count": null,
   "metadata": {},
   "outputs": [],
   "source": []
  },
  {
   "cell_type": "code",
   "execution_count": null,
   "metadata": {},
   "outputs": [],
   "source": []
  },
  {
   "cell_type": "code",
   "execution_count": null,
   "metadata": {},
   "outputs": [],
   "source": []
  },
  {
   "cell_type": "code",
   "execution_count": null,
   "metadata": {},
   "outputs": [],
   "source": [
    "import pandas as pd\n",
    "import numpy as np\n",
    "import matplotlib.pylab as plt"
   ]
  },
  {
   "cell_type": "code",
   "execution_count": null,
   "metadata": {},
   "outputs": [],
   "source": [
    "ls -la"
   ]
  },
  {
   "cell_type": "code",
   "execution_count": null,
   "metadata": {},
   "outputs": [],
   "source": [
    "riders = pd.read_csv(\"./riders.csv\", index_col=\"rider_id\")\n",
    "zones = pd.read_csv(\"./zones.csv\", index_col=\"zone_id\")"
   ]
  },
  {
   "cell_type": "code",
   "execution_count": null,
   "metadata": {},
   "outputs": [],
   "source": [
    "np.unique(riders[\"end_hour\"] - riders[\"start_hour\"])"
   ]
  },
  {
   "cell_type": "code",
   "execution_count": null,
   "metadata": {
    "scrolled": true
   },
   "outputs": [],
   "source": [
    "riders[\"zone_id\"].value_counts()"
   ]
  },
  {
   "cell_type": "code",
   "execution_count": null,
   "metadata": {},
   "outputs": [],
   "source": [
    "# TODO: тесты, аннотации, mpi"
   ]
  },
  {
   "cell_type": "code",
   "execution_count": null,
   "metadata": {},
   "outputs": [],
   "source": [
    "min(riders[\"start_hour\"]), max(riders[\"end_hour\"])"
   ]
  },
  {
   "cell_type": "code",
   "execution_count": null,
   "metadata": {},
   "outputs": [],
   "source": [
    "# Курьер -> (Зона, Время)\n",
    "\n",
    "# 1. Можно ли увеличивать время работы курьера ?\n",
    "# 2. Для каждого курьера определена своя зона. Поэтому можно в принципе рассматривать каждую зону изолированно."
   ]
  },
  {
   "cell_type": "code",
   "execution_count": null,
   "metadata": {},
   "outputs": [],
   "source": [
    "# Эффективное расписание – это расписание с минимальным количеством часов в зонах доставки без курьеров."
   ]
  },
  {
   "cell_type": "code",
   "execution_count": null,
   "metadata": {},
   "outputs": [],
   "source": [
    "# Мультипроцессинг"
   ]
  },
  {
   "cell_type": "code",
   "execution_count": null,
   "metadata": {},
   "outputs": [],
   "source": [
    "zones"
   ]
  },
  {
   "cell_type": "code",
   "execution_count": null,
   "metadata": {},
   "outputs": [],
   "source": []
  },
  {
   "cell_type": "code",
   "execution_count": null,
   "metadata": {},
   "outputs": [],
   "source": [
    "# 1. В каком порядке сортировать на выбрасывание и вообще нужно ли оно????"
   ]
  },
  {
   "cell_type": "code",
   "execution_count": null,
   "metadata": {},
   "outputs": [],
   "source": [
    "cum_hour = np.zeros(22 - 5)"
   ]
  },
  {
   "cell_type": "code",
   "execution_count": null,
   "metadata": {},
   "outputs": [],
   "source": [
    "rider = riders.loc[riders.zone_id == 1]"
   ]
  },
  {
   "cell_type": "code",
   "execution_count": null,
   "metadata": {},
   "outputs": [],
   "source": [
    "for i in rider.index:\n",
    "    rid = rider.loc[i, :]\n",
    "    for hour in range(rid[\"start_hour\"], rid[\"end_hour\"] + 1):\n",
    "        cum_hour[hour - 6] += 1"
   ]
  },
  {
   "cell_type": "code",
   "execution_count": null,
   "metadata": {},
   "outputs": [],
   "source": [
    "plt.figure(figsize=(16, 6))\n",
    "plt.plot(zones.iloc[0, :].values)\n",
    "plt.plot(cum_hour)\n",
    "plt.show()"
   ]
  },
  {
   "cell_type": "code",
   "execution_count": null,
   "metadata": {},
   "outputs": [],
   "source": [
    "zones.iloc[0, :].values"
   ]
  },
  {
   "cell_type": "code",
   "execution_count": null,
   "metadata": {},
   "outputs": [],
   "source": [
    "cum_hour"
   ]
  },
  {
   "cell_type": "code",
   "execution_count": null,
   "metadata": {},
   "outputs": [],
   "source": []
  },
  {
   "cell_type": "code",
   "execution_count": null,
   "metadata": {},
   "outputs": [],
   "source": []
  },
  {
   "cell_type": "code",
   "execution_count": null,
   "metadata": {},
   "outputs": [],
   "source": []
  },
  {
   "cell_type": "code",
   "execution_count": null,
   "metadata": {},
   "outputs": [],
   "source": []
  },
  {
   "cell_type": "code",
   "execution_count": 1,
   "metadata": {},
   "outputs": [],
   "source": [
    "import pandas as pd\n",
    "import numpy as np\n",
    "\n",
    "from riders_combination_storage import RidersCombinationsStorage\n",
    "from combinations_checker import CombinationsChecker\n",
    "from riders_iterator import RidersIterator"
   ]
  },
  {
   "cell_type": "code",
   "execution_count": 2,
   "metadata": {},
   "outputs": [],
   "source": [
    "riders = pd.read_csv(\"./riders.csv\", index_col=\"rider_id\")\n",
    "zones = pd.read_csv(\"./zones.csv\", index_col=\"zone_id\")"
   ]
  },
  {
   "cell_type": "code",
   "execution_count": 3,
   "metadata": {},
   "outputs": [],
   "source": [
    "riders_in_zones = zones.loc[zones.index == 8].values[0]\n",
    "poss_riders = riders.loc[riders.zone_id == 8, [\"start_hour\", \"end_hour\"]]\n",
    "poss_riders = poss_riders - 6\n",
    "id_rider2time = {ind: tuple(poss_riders.loc[ind]) for ind in  poss_riders.index}"
   ]
  },
  {
   "cell_type": "code",
   "execution_count": 4,
   "metadata": {},
   "outputs": [],
   "source": [
    "cs = CombinationsChecker(riders_in_zones)\n",
    "rcs = RidersCombinationsStorage(id_rider2time=id_rider2time,\n",
    "                                working_duration=riders_in_zones.shape[0],\n",
    "                                working_time_constraint=3)"
   ]
  },
  {
   "cell_type": "code",
   "execution_count": 5,
   "metadata": {},
   "outputs": [],
   "source": [
    "ri = RidersIterator(riders_combinations_storage=rcs,\n",
    "                    combinations_checker=cs)"
   ]
  },
  {
   "cell_type": "code",
   "execution_count": 7,
   "metadata": {},
   "outputs": [],
   "source": [
    "ri()"
   ]
  },
  {
   "cell_type": "code",
   "execution_count": 15,
   "metadata": {},
   "outputs": [],
   "source": [
    "ri._RidersIterator__checked_combinations"
   ]
  },
  {
   "cell_type": "code",
   "execution_count": 17,
   "metadata": {},
   "outputs": [
    {
     "data": {
      "text/plain": [
       "((70, 10, 394, 465), ((2, 9), (8, 13), (1, 4), (8, 14)), 518863)"
      ]
     },
     "execution_count": 17,
     "metadata": {},
     "output_type": "execute_result"
    }
   ],
   "source": [
    "ri._RidersIterator__riders_combinations_storage.best_combination"
   ]
  },
  {
   "cell_type": "code",
   "execution_count": 20,
   "metadata": {},
   "outputs": [
    {
     "data": {
      "text/plain": [
       "array([4, 8, 3, 5, 3, 1, 2, 4, 3, 6, 3, 3, 4, 2, 8, 6, 7])"
      ]
     },
     "execution_count": 20,
     "metadata": {},
     "output_type": "execute_result"
    }
   ],
   "source": [
    "riders_in_zones"
   ]
  },
  {
   "cell_type": "code",
   "execution_count": null,
   "metadata": {},
   "outputs": [],
   "source": []
  },
  {
   "cell_type": "code",
   "execution_count": null,
   "metadata": {},
   "outputs": [],
   "source": []
  },
  {
   "cell_type": "code",
   "execution_count": null,
   "metadata": {},
   "outputs": [],
   "source": []
  }
 ],
 "metadata": {
  "kernelspec": {
   "display_name": "Python 3",
   "language": "python",
   "name": "python3"
  },
  "language_info": {
   "codemirror_mode": {
    "name": "ipython",
    "version": 3
   },
   "file_extension": ".py",
   "mimetype": "text/x-python",
   "name": "python",
   "nbconvert_exporter": "python",
   "pygments_lexer": "ipython3",
   "version": "3.7.6"
  },
  "pycharm": {
   "stem_cell": {
    "cell_type": "raw",
    "metadata": {
     "collapsed": false
    },
    "source": []
   }
  }
 },
 "nbformat": 4,
 "nbformat_minor": 4
}
