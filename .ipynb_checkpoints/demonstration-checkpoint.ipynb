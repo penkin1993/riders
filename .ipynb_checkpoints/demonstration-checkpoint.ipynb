{
 "cells": [
  {
   "cell_type": "markdown",
   "metadata": {},
   "source": [
    "Класс данных задач NP-полон.\n",
    "Для ее решения я придумал алгоритм последовательного перебора.\n",
    "В моем понимании данный алгортм является по сути обходом в ширину N-арного дерева.\n",
    "Уже после начала реализации, нашел что этот метод называется вот так \n",
    "https://en.wikipedia.org/wiki/Branch_and_bound\n",
    "Для ускорения вычисления были использованы следующие 3 приема:\n",
    "1. Инвариантность порядка. От порядка выбора курьеров не зависит результат.\n",
    "2. Если ни одна комбинация курьеров (id1, id2, id3) неподходит, то нет смысла проверять комбинацию (id1, id2, id3, id4) и подобные ей.\n",
    "3. В реализации я использовал матричные операции. При этих операциях частов появляются дубликаты в строчках, которые нет смысла проверять. Поэтому у класса RidersCombinationsStorage не стандартный интерфейс (методы get_combinations и set_combinations)."
   ]
  },
  {
   "cell_type": "code",
   "execution_count": 1,
   "metadata": {},
   "outputs": [],
   "source": [
    "import pandas as pd\n",
    "\n",
    "from riders_optimizer import RidersOptimizer"
   ]
  },
  {
   "cell_type": "code",
   "execution_count": 2,
   "metadata": {},
   "outputs": [],
   "source": [
    "riders = pd.read_csv(\"./riders.csv\", index_col=\"rider_id\")\n",
    "zones = pd.read_csv(\"./zones.csv\", index_col=\"zone_id\")"
   ]
  },
  {
   "cell_type": "code",
   "execution_count": 3,
   "metadata": {},
   "outputs": [],
   "source": [
    "ids = [34, 85, 57]\n",
    "zones = zones.loc[zones.index.isin(ids), :]\n",
    "riders = riders.loc[riders.zone_id.isin(ids), :]"
   ]
  },
  {
   "cell_type": "code",
   "execution_count": 4,
   "metadata": {},
   "outputs": [],
   "source": [
    "ro = RidersOptimizer(zones=zones, riders=riders, start_hour=6)"
   ]
  },
  {
   "cell_type": "code",
   "execution_count": null,
   "metadata": {},
   "outputs": [
    {
     "name": "stdout",
     "output_type": "stream",
     "text": [
      " zone_id = 34 optimization processing\n",
      " time_dif = 0.035485029220581055, 2\n",
      " time_dif = 0.10407590866088867, 2\n",
      " time_dif = 1.048105001449585, 3\n",
      " time_dif = 1.1903960704803467, 3\n"
     ]
    }
   ],
   "source": [
    "riders_schedule = ro()\n",
    "riders_schedule"
   ]
  },
  {
   "cell_type": "code",
   "execution_count": null,
   "metadata": {},
   "outputs": [],
   "source": []
  }
 ],
 "metadata": {
  "kernelspec": {
   "display_name": "Python 3",
   "language": "python",
   "name": "python3"
  },
  "language_info": {
   "codemirror_mode": {
    "name": "ipython",
    "version": 3
   },
   "file_extension": ".py",
   "mimetype": "text/x-python",
   "name": "python",
   "nbconvert_exporter": "python",
   "pygments_lexer": "ipython3",
   "version": "3.7.6"
  },
  "pycharm": {
   "stem_cell": {
    "cell_type": "raw",
    "metadata": {
     "collapsed": false
    },
    "source": []
   }
  }
 },
 "nbformat": 4,
 "nbformat_minor": 4
}
