{
 "cells": [
  {
   "cell_type": "code",
   "execution_count": 1,
   "metadata": {},
   "outputs": [],
   "source": [
    "import numpy as np\n",
    "import itertools\n",
    "\n",
    "from riders_combination_storage import RidersCombinationsStorage\n",
    "from queue import Queue"
   ]
  },
  {
   "cell_type": "code",
   "execution_count": 2,
   "metadata": {},
   "outputs": [],
   "source": [
    "rcs = RidersCombinationsStorage({\"a\": (2, 3), \"b\": (2, 15), \"c\": (0, 7), \"d\": (13, 16), \"e\": (14, 16)})\n",
    "\n",
    "array = rcs.get_combinations((\"d\",), (\"c\",))\n",
    "ind = [1, 3, 45, 5]\n",
    "new_array = array[ind, :]\n",
    "rcs.set_combinations((\"d\",), (\"c\",), ind, new_array)\n",
    "\n",
    "array_ = rcs.get_combinations((\"d\", \"c\"), (\"c\",))\n",
    "ind_ = [1, 45]\n",
    "new_array_ = array_[ind_, :]\n",
    "rcs.set_combinations((\"d\", \"c\"), (\"c\",), ind_, new_array_)"
   ]
  },
  {
   "cell_type": "code",
   "execution_count": 3,
   "metadata": {},
   "outputs": [
    {
     "data": {
      "text/plain": [
       "(84, 17)"
      ]
     },
     "execution_count": 3,
     "metadata": {},
     "output_type": "execute_result"
    }
   ],
   "source": [
    "rcs.get_combinations((\"d\", \"c\"), (\"c\", )).shape"
   ]
  },
  {
   "cell_type": "code",
   "execution_count": 4,
   "metadata": {},
   "outputs": [
    {
     "data": {
      "text/plain": [
       "(63, 17)"
      ]
     },
     "execution_count": 4,
     "metadata": {},
     "output_type": "execute_result"
    }
   ],
   "source": [
    "rcs.get_combinations((\"d\",), (\"c\", )).shape"
   ]
  },
  {
   "cell_type": "code",
   "execution_count": 5,
   "metadata": {},
   "outputs": [],
   "source": [
    "rcs = RidersCombinationsStorage({\"a\": (2, 3), \"b\": (2, 15), \"c\": (0, 7), \"d\": (13, 16), \"e\": (14, 16)})\n",
    "\n",
    "array = rcs.get_combinations((\"d\",), (\"c\",))\n",
    "ind = [1, 3, 45, 5]\n",
    "new_array = array[ind, :]\n",
    "rcs.set_combinations((\"d\",), (\"c\",), ind, new_array)\n",
    "\n",
    "array_ = rcs.get_combinations((\"d\", \"c\"), (\"c\",))\n",
    "ind_ = [1, 45]\n",
    "new_array_ = array_[ind_, :]\n",
    "rcs.set_combinations((\"d\", \"c\"), (\"c\",), ind_, new_array_)"
   ]
  },
  {
   "cell_type": "code",
   "execution_count": 6,
   "metadata": {},
   "outputs": [
    {
     "data": {
      "text/plain": [
       "'\\nrcs.best_combination = (\"c\", ), np.array([0, 1, 4]), np.array([100, 10, 20])\\nprint(rcs.best_combination)\\nrcs.best_combination = (\"d\", \"c\", ), np.array([12, 3, 4]), np.array([10, 10, 10])\\nprint(rcs.best_combination)\\nrcs.best_combination = (\"c\", \"q\", ), np.array([31, 0, 12]), np.array([20, 20, 20])\\nprint(rcs.best_combination)\\nrcs.best_combination = (\"c\", ), np.array([0, 1, 4]), np.array([100, 10, 20])\\nprint(rcs.best_combination)\\nrcs.best_combination = (\"d\", \"c\", \"c\"), np.array([1, 2]), np.array([1, 5])\\nprint(rcs.best_combination)\\n'"
      ]
     },
     "execution_count": 6,
     "metadata": {},
     "output_type": "execute_result"
    }
   ],
   "source": [
    "\"\"\"\n",
    "rcs.best_combination = (\"c\", ), np.array([0, 1, 4]), np.array([100, 10, 20])\n",
    "print(rcs.best_combination)\n",
    "rcs.best_combination = (\"d\", \"c\", ), np.array([12, 3, 4]), np.array([10, 10, 10])\n",
    "print(rcs.best_combination)\n",
    "rcs.best_combination = (\"c\", \"q\", ), np.array([31, 0, 12]), np.array([20, 20, 20])\n",
    "print(rcs.best_combination)\n",
    "rcs.best_combination = (\"c\", ), np.array([0, 1, 4]), np.array([100, 10, 20])\n",
    "print(rcs.best_combination)\n",
    "rcs.best_combination = (\"d\", \"c\", \"c\"), np.array([1, 2]), np.array([1, 5])\n",
    "print(rcs.best_combination)\n",
    "\"\"\""
   ]
  },
  {
   "cell_type": "code",
   "execution_count": 7,
   "metadata": {},
   "outputs": [],
   "source": [
    "rider_requirements = np.array([2, 2, 2, 2, 0, 0, 0, 0, 0, 0, 0, 0, 0, 1, 1, 1, 0])"
   ]
  },
  {
   "cell_type": "code",
   "execution_count": 8,
   "metadata": {},
   "outputs": [],
   "source": [
    "from combinations_checker import CombinationsChecker"
   ]
  },
  {
   "cell_type": "code",
   "execution_count": 9,
   "metadata": {},
   "outputs": [],
   "source": [
    "comb_check = CombinationsChecker(rider_requirements)"
   ]
  },
  {
   "cell_type": "code",
   "execution_count": 10,
   "metadata": {},
   "outputs": [
    {
     "data": {
      "text/plain": [
       "(array([0, 1, 6]),\n",
       " array([[2., 2., 2., 1., 0., 0., 0., 0., 0., 0., 0., 0., 0., 1., 1., 1.,\n",
       "         0.],\n",
       "        [2., 2., 2., 2., 0., 0., 0., 0., 0., 0., 0., 0., 0., 1., 1., 1.,\n",
       "         0.],\n",
       "        [1., 2., 2., 2., 0., 0., 0., 0., 0., 0., 0., 0., 0., 1., 1., 1.,\n",
       "         0.]]),\n",
       " array([1., 0., 1.]))"
      ]
     },
     "execution_count": 10,
     "metadata": {},
     "output_type": "execute_result"
    }
   ],
   "source": [
    "comb_check(array_)"
   ]
  },
  {
   "cell_type": "code",
   "execution_count": 11,
   "metadata": {},
   "outputs": [],
   "source": [
    "# дописать и провериь все у очереди "
   ]
  },
  {
   "cell_type": "code",
   "execution_count": 12,
   "metadata": {},
   "outputs": [],
   "source": [
    "from riders_iterator import RidersIterator"
   ]
  },
  {
   "cell_type": "code",
   "execution_count": 13,
   "metadata": {},
   "outputs": [],
   "source": [
    "ri = RidersIterator(rcs, comb_check)"
   ]
  },
  {
   "cell_type": "code",
   "execution_count": 14,
   "metadata": {},
   "outputs": [
    {
     "data": {
      "text/plain": [
       "{'b', 'c', 'd', 'e'}"
      ]
     },
     "execution_count": 14,
     "metadata": {},
     "output_type": "execute_result"
    }
   ],
   "source": [
    "ri._RidersIterator__ids"
   ]
  },
  {
   "cell_type": "code",
   "execution_count": 15,
   "metadata": {},
   "outputs": [],
   "source": [
    "# ri._RidersIterator__combination_deque.get()"
   ]
  },
  {
   "cell_type": "code",
   "execution_count": 16,
   "metadata": {},
   "outputs": [
    {
     "data": {
      "text/plain": [
       "set()"
      ]
     },
     "execution_count": 16,
     "metadata": {},
     "output_type": "execute_result"
    }
   ],
   "source": [
    "ri._RidersIterator__checked_combinations"
   ]
  },
  {
   "cell_type": "code",
   "execution_count": 17,
   "metadata": {
    "scrolled": true
   },
   "outputs": [],
   "source": [
    "ri._RidersIterator__add_in_checked_combinations(((\"b\", \"c\"), (\"d\", \"e\")))\n",
    "ri._RidersIterator__add_in_checked_combinations(((\"b\", \"c\"), (\"d\",)))\n",
    "ri._RidersIterator__add_in_checked_combinations(((\"b\", \"c\"), ()))\n",
    "ri._RidersIterator__add_in_checked_combinations(((\"b\",), ()))"
   ]
  },
  {
   "cell_type": "code",
   "execution_count": 18,
   "metadata": {},
   "outputs": [
    {
     "data": {
      "text/plain": [
       "{frozenset({('b', 'c'), ('d',), 'd', 'e'}),\n",
       " frozenset({('b', 'c'), ('d',), 'c'}),\n",
       " frozenset({('b', 'c'), ('d',), 'c', 'd', 'e'}),\n",
       " frozenset({('b', 'c'), (), 'e'}),\n",
       " frozenset({('b', 'c'), (), 'c', 'd'}),\n",
       " frozenset({('b',), (), 'b'}),\n",
       " frozenset({('b',), (), 'b', 'e'}),\n",
       " frozenset({('b',), (), 'b', 'c', 'e'}),\n",
       " frozenset({('b',), (), 'b', 'd'}),\n",
       " frozenset({('b',), (), 'b', 'd', 'e'}),\n",
       " frozenset({('b', 'c'), ('d',), 'b'}),\n",
       " frozenset({('b', 'c'), ('d',), 'e'}),\n",
       " frozenset({('b', 'c'), ('d',), 'b', 'd', 'e'}),\n",
       " frozenset({('b', 'c'), ('d', 'e'), 'b'}),\n",
       " frozenset({('b', 'c'), ('d', 'e'), 'b', 'd'}),\n",
       " frozenset({('b', 'c'), ('d', 'e'), 'b', 'd', 'e'}),\n",
       " frozenset({('b', 'c'), ('d', 'e'), 'c', 'd'}),\n",
       " frozenset({('b', 'c'), ('d', 'e'), 'e'}),\n",
       " frozenset({('b', 'c'), (), 'b'}),\n",
       " frozenset({('b', 'c'), (), 'd'}),\n",
       " frozenset({('b', 'c'), (), 'b', 'd'}),\n",
       " frozenset({('b', 'c'), (), 'b', 'c'}),\n",
       " frozenset({('b', 'c'), (), 'b', 'c', 'd'}),\n",
       " frozenset({('b', 'c'), ('d',), 'b', 'c', 'd'}),\n",
       " frozenset({('b', 'c'), (), 'b', 'd', 'e'}),\n",
       " frozenset({('b',), (), 'b', 'c'}),\n",
       " frozenset({('b', 'c'), ('d',), 'c', 'd'}),\n",
       " frozenset({('b', 'c'), (), 'c'}),\n",
       " frozenset({('b', 'c'), (), 'd', 'e'}),\n",
       " frozenset({('b', 'c'), (), 'c', 'd', 'e'}),\n",
       " frozenset({('b',), (), 'b', 'c', 'd'}),\n",
       " frozenset({('b',), (), 'b', 'c', 'd', 'e'}),\n",
       " frozenset({('b', 'c'), ('d', 'e'), 'd', 'e'}),\n",
       " frozenset({('b', 'c'), ('d', 'e'), 'c'}),\n",
       " frozenset({('b', 'c'), ('d', 'e'), 'c', 'd', 'e'}),\n",
       " frozenset({('b', 'c'), ('d',), 'd'}),\n",
       " frozenset({('b', 'c'), ('d',), 'b', 'd'}),\n",
       " frozenset({('b',), (), 'c', 'e'}),\n",
       " frozenset({('b', 'c'), ('d', 'e'), 'b', 'c'}),\n",
       " frozenset({('b', 'c'), (), 'c', 'e'}),\n",
       " frozenset({('b', 'c'), (), 'b', 'c', 'd', 'e'}),\n",
       " frozenset({('b', 'c'), ('d', 'e'), 'b', 'c', 'd', 'e'}),\n",
       " frozenset({('b', 'c'), ('d',), 'b', 'e'}),\n",
       " frozenset({('b', 'c'), ('d',), 'c', 'e'}),\n",
       " frozenset({('b', 'c'), ('d',), 'b', 'c', 'e'}),\n",
       " frozenset({('b',), (), 'c'}),\n",
       " frozenset({('b',), (), 'd'}),\n",
       " frozenset({('b',), (), 'e'}),\n",
       " frozenset({('b',), (), 'd', 'e'}),\n",
       " frozenset({('b',), (), 'c', 'd', 'e'}),\n",
       " frozenset({('b', 'c'), ('d', 'e'), 'd'}),\n",
       " frozenset({('b', 'c'), ('d', 'e'), 'b', 'e'}),\n",
       " frozenset({('b', 'c'), ('d', 'e'), 'b', 'c', 'e'}),\n",
       " frozenset({('b', 'c'), ('d',), 'b', 'c', 'd', 'e'}),\n",
       " frozenset({('b',), (), 'c', 'd'}),\n",
       " frozenset({('b', 'c'), ('d',), 'b', 'c'}),\n",
       " frozenset({('b', 'c'), (), 'b', 'e'}),\n",
       " frozenset({('b', 'c'), (), 'b', 'c', 'e'}),\n",
       " frozenset({('b', 'c'), ('d', 'e'), 'c', 'e'}),\n",
       " frozenset({('b', 'c'), ('d', 'e'), 'b', 'c', 'd'})}"
      ]
     },
     "execution_count": 18,
     "metadata": {},
     "output_type": "execute_result"
    }
   ],
   "source": [
    "ri._RidersIterator__checked_combinations"
   ]
  },
  {
   "cell_type": "code",
   "execution_count": 19,
   "metadata": {
    "scrolled": true
   },
   "outputs": [],
   "source": [
    "ri.put_combinations(((\"c\", \"d\"), ()))"
   ]
  },
  {
   "cell_type": "code",
   "execution_count": 20,
   "metadata": {},
   "outputs": [
    {
     "data": {
      "text/plain": [
       "(('c',), ())"
      ]
     },
     "execution_count": 20,
     "metadata": {},
     "output_type": "execute_result"
    }
   ],
   "source": [
    "ri._RidersIterator__combinations_queue.get()"
   ]
  },
  {
   "cell_type": "code",
   "execution_count": null,
   "metadata": {},
   "outputs": [],
   "source": []
  },
  {
   "cell_type": "code",
   "execution_count": null,
   "metadata": {},
   "outputs": [],
   "source": []
  },
  {
   "cell_type": "code",
   "execution_count": null,
   "metadata": {},
   "outputs": [],
   "source": []
  },
  {
   "cell_type": "code",
   "execution_count": null,
   "metadata": {},
   "outputs": [],
   "source": []
  },
  {
   "cell_type": "code",
   "execution_count": null,
   "metadata": {},
   "outputs": [],
   "source": []
  },
  {
   "cell_type": "code",
   "execution_count": null,
   "metadata": {},
   "outputs": [],
   "source": []
  },
  {
   "cell_type": "code",
   "execution_count": null,
   "metadata": {},
   "outputs": [],
   "source": [
    "import pandas as pd\n",
    "import numpy as np\n",
    "import matplotlib.pylab as plt"
   ]
  },
  {
   "cell_type": "code",
   "execution_count": null,
   "metadata": {},
   "outputs": [],
   "source": [
    "ls -la"
   ]
  },
  {
   "cell_type": "code",
   "execution_count": null,
   "metadata": {},
   "outputs": [],
   "source": [
    "riders = pd.read_csv(\"./riders.csv\", index_col=\"rider_id\")\n",
    "zones = pd.read_csv(\"./zones.csv\", index_col=\"zone_id\")"
   ]
  },
  {
   "cell_type": "code",
   "execution_count": null,
   "metadata": {},
   "outputs": [],
   "source": [
    "np.unique(riders[\"end_hour\"] - riders[\"start_hour\"])"
   ]
  },
  {
   "cell_type": "code",
   "execution_count": null,
   "metadata": {
    "scrolled": true
   },
   "outputs": [],
   "source": [
    "riders[\"zone_id\"].value_counts()"
   ]
  },
  {
   "cell_type": "code",
   "execution_count": null,
   "metadata": {},
   "outputs": [],
   "source": [
    "# TODO: тесты, аннотации, mpi"
   ]
  },
  {
   "cell_type": "code",
   "execution_count": null,
   "metadata": {},
   "outputs": [],
   "source": [
    "min(riders[\"start_hour\"]), max(riders[\"end_hour\"])"
   ]
  },
  {
   "cell_type": "code",
   "execution_count": null,
   "metadata": {},
   "outputs": [],
   "source": [
    "# Курьер -> (Зона, Время)\n",
    "\n",
    "# 1. Можно ли увеличивать время работы курьера ?\n",
    "# 2. Для каждого курьера определена своя зона. Поэтому можно в принципе рассматривать каждую зону изолированно."
   ]
  },
  {
   "cell_type": "code",
   "execution_count": null,
   "metadata": {},
   "outputs": [],
   "source": [
    "# Эффективное расписание – это расписание с минимальным количеством часов в зонах доставки без курьеров."
   ]
  },
  {
   "cell_type": "code",
   "execution_count": null,
   "metadata": {},
   "outputs": [],
   "source": [
    "# Мультипроцессинг"
   ]
  },
  {
   "cell_type": "code",
   "execution_count": null,
   "metadata": {},
   "outputs": [],
   "source": [
    "zones"
   ]
  },
  {
   "cell_type": "code",
   "execution_count": null,
   "metadata": {},
   "outputs": [],
   "source": []
  },
  {
   "cell_type": "code",
   "execution_count": null,
   "metadata": {},
   "outputs": [],
   "source": [
    "# 1. В каком порядке сортировать на выбрасывание и вообще нужно ли оно????"
   ]
  },
  {
   "cell_type": "code",
   "execution_count": null,
   "metadata": {},
   "outputs": [],
   "source": [
    "cum_hour = np.zeros(22 - 5)"
   ]
  },
  {
   "cell_type": "code",
   "execution_count": null,
   "metadata": {},
   "outputs": [],
   "source": [
    "rider = riders.loc[riders.zone_id == 1]"
   ]
  },
  {
   "cell_type": "code",
   "execution_count": null,
   "metadata": {},
   "outputs": [],
   "source": [
    "for i in rider.index:\n",
    "    rid = rider.loc[i, :]\n",
    "    for hour in range(rid[\"start_hour\"], rid[\"end_hour\"] + 1):\n",
    "        cum_hour[hour - 6] += 1"
   ]
  },
  {
   "cell_type": "code",
   "execution_count": null,
   "metadata": {},
   "outputs": [],
   "source": [
    "plt.figure(figsize=(16, 6))\n",
    "plt.plot(zones.iloc[0, :].values)\n",
    "plt.plot(cum_hour)\n",
    "plt.show()"
   ]
  },
  {
   "cell_type": "code",
   "execution_count": null,
   "metadata": {},
   "outputs": [],
   "source": [
    "zones.iloc[0, :].values"
   ]
  },
  {
   "cell_type": "code",
   "execution_count": null,
   "metadata": {},
   "outputs": [],
   "source": [
    "cum_hour"
   ]
  },
  {
   "cell_type": "code",
   "execution_count": null,
   "metadata": {},
   "outputs": [],
   "source": []
  },
  {
   "cell_type": "code",
   "execution_count": null,
   "metadata": {},
   "outputs": [],
   "source": []
  },
  {
   "cell_type": "code",
   "execution_count": null,
   "metadata": {},
   "outputs": [],
   "source": []
  },
  {
   "cell_type": "code",
   "execution_count": null,
   "metadata": {},
   "outputs": [],
   "source": []
  },
  {
   "cell_type": "code",
   "execution_count": 1,
   "metadata": {},
   "outputs": [],
   "source": [
    "import pandas as pd\n",
    "import numpy as np\n",
    "\n",
    "from riders_combination_storage import RidersCombinationsStorage\n",
    "from combinations_checker import CombinationsChecker\n",
    "from riders_iterator import RidersIterator"
   ]
  },
  {
   "cell_type": "code",
   "execution_count": 2,
   "metadata": {},
   "outputs": [],
   "source": [
    "riders = pd.read_csv(\"./riders.csv\", index_col=\"rider_id\")\n",
    "zones = pd.read_csv(\"./zones.csv\", index_col=\"zone_id\")"
   ]
  },
  {
   "cell_type": "code",
   "execution_count": 3,
   "metadata": {},
   "outputs": [
    {
     "data": {
      "text/plain": [
       "44    22\n",
       "92    16\n",
       "8     15\n",
       "60    15\n",
       "81    15\n",
       "      ..\n",
       "4      5\n",
       "41     5\n",
       "7      4\n",
       "96     4\n",
       "93     3\n",
       "Name: zone_id, Length: 98, dtype: int64"
      ]
     },
     "execution_count": 3,
     "metadata": {},
     "output_type": "execute_result"
    }
   ],
   "source": [
    "riders[\"zone_id\"].value_counts()"
   ]
  },
  {
   "cell_type": "code",
   "execution_count": 4,
   "metadata": {},
   "outputs": [],
   "source": [
    "id_ = 96"
   ]
  },
  {
   "cell_type": "code",
   "execution_count": 5,
   "metadata": {},
   "outputs": [],
   "source": [
    "riders_in_zones = zones.loc[zones.index == id_].values[0]\n",
    "poss_riders = riders.loc[riders.zone_id == id_, [\"start_hour\", \"end_hour\"]]\n",
    "poss_riders = poss_riders - 6\n",
    "id_rider2time = {ind: tuple(poss_riders.loc[ind]) for ind in  poss_riders.index}"
   ]
  },
  {
   "cell_type": "code",
   "execution_count": 6,
   "metadata": {},
   "outputs": [],
   "source": [
    "cs = CombinationsChecker(riders_in_zones)\n",
    "rcs = RidersCombinationsStorage(id_rider2time=id_rider2time,\n",
    "                                working_duration=riders_in_zones.shape[0],\n",
    "                                working_time_constraint=3)"
   ]
  },
  {
   "cell_type": "code",
   "execution_count": 7,
   "metadata": {},
   "outputs": [],
   "source": [
    "ri = RidersIterator(riders_combinations_storage=rcs, combinations_checker=cs)"
   ]
  },
  {
   "cell_type": "code",
   "execution_count": 8,
   "metadata": {
    "scrolled": true
   },
   "outputs": [
    {
     "name": "stdout",
     "output_type": "stream",
     "text": [
      "1\n",
      "1\n",
      "1\n",
      "1\n",
      "1\n",
      "1\n",
      "1\n",
      "1\n",
      "2\n",
      "CPU times: user 78.8 ms, sys: 20.6 ms, total: 99.3 ms\n",
      "Wall time: 97.4 ms\n"
     ]
    },
    {
     "data": {
      "text/plain": [
       "((858, 707, 750), ((5, 16), (2, 10), (5, 16)), 43.0)"
      ]
     },
     "execution_count": 8,
     "metadata": {},
     "output_type": "execute_result"
    }
   ],
   "source": [
    "%%time\n",
    "ri()"
   ]
  },
  {
   "cell_type": "code",
   "execution_count": 10,
   "metadata": {},
   "outputs": [
    {
     "data": {
      "text/plain": [
       "{frozenset({123, 750, 858}),\n",
       " frozenset({707, 858}),\n",
       " frozenset({707, 750, 858}),\n",
       " frozenset({123, 858}),\n",
       " frozenset({123, 707, 858}),\n",
       " frozenset({707, 750}),\n",
       " frozenset({123, 707}),\n",
       " frozenset({123, 750}),\n",
       " frozenset({123, 707, 750}),\n",
       " frozenset({750, 858}),\n",
       " frozenset({123, 707, 750, 858})}"
      ]
     },
     "execution_count": 10,
     "metadata": {},
     "output_type": "execute_result"
    }
   ],
   "source": [
    "ri._RidersIterator__checked_combinations"
   ]
  },
  {
   "cell_type": "code",
   "execution_count": 11,
   "metadata": {},
   "outputs": [],
   "source": [
    "bc = ri._RidersIterator__riders_combinations_storage.best_combination"
   ]
  },
  {
   "cell_type": "code",
   "execution_count": 12,
   "metadata": {},
   "outputs": [
    {
     "data": {
      "text/plain": [
       "((858, 707, 750), ((5, 16), (2, 10), (5, 16)), 43.0)"
      ]
     },
     "execution_count": 12,
     "metadata": {},
     "output_type": "execute_result"
    }
   ],
   "source": [
    "bc"
   ]
  },
  {
   "cell_type": "code",
   "execution_count": 14,
   "metadata": {},
   "outputs": [],
   "source": [
    "import matplotlib.pylab as plt"
   ]
  },
  {
   "cell_type": "code",
   "execution_count": 16,
   "metadata": {},
   "outputs": [],
   "source": [
    "a = np.zeros(17)\n",
    "for i in bc[1]:\n",
    "    a[i[0]:i[1] + 1] += 1"
   ]
  },
  {
   "cell_type": "code",
   "execution_count": 17,
   "metadata": {},
   "outputs": [
    {
     "data": {
      "image/png": "[encoded data removed]",
      "text/plain": [
       "<Figure size 432x288 with 1 Axes>"
      ]
     },
     "metadata": {
      "needs_background": "light"
     },
     "output_type": "display_data"
    }
   ],
   "source": [
    "plt.plot(riders_in_zones)\n",
    "plt.plot(a)\n",
    "plt.show()"
   ]
  },
  {
   "cell_type": "code",
   "execution_count": null,
   "metadata": {},
   "outputs": [],
   "source": []
  },
  {
   "cell_type": "code",
   "execution_count": null,
   "metadata": {},
   "outputs": [],
   "source": []
  },
  {
   "cell_type": "code",
   "execution_count": null,
   "metadata": {},
   "outputs": [],
   "source": []
  },
  {
   "cell_type": "code",
   "execution_count": null,
   "metadata": {},
   "outputs": [],
   "source": []
  },
  {
   "cell_type": "code",
   "execution_count": null,
   "metadata": {},
   "outputs": [],
   "source": []
  }
 ],
 "metadata": {
  "kernelspec": {
   "display_name": "Python 3",
   "language": "python",
   "name": "python3"
  },
  "language_info": {
   "codemirror_mode": {
    "name": "ipython",
    "version": 3
   },
   "file_extension": ".py",
   "mimetype": "text/x-python",
   "name": "python",
   "nbconvert_exporter": "python",
   "pygments_lexer": "ipython3",
   "version": "3.7.6"
  },
  "pycharm": {
   "stem_cell": {
    "cell_type": "raw",
    "metadata": {
     "collapsed": false
    },
    "source": []
   }
  }
 },
 "nbformat": 4,
 "nbformat_minor": 4
}
